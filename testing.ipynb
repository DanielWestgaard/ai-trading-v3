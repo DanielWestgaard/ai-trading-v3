{
 "cells": [
  {
   "cell_type": "markdown",
   "metadata": {},
   "source": [
    "# Imports"
   ]
  },
  {
   "cell_type": "code",
   "execution_count": 23,
   "metadata": {},
   "outputs": [],
   "source": [
    "import numpy as np\n",
    "import pandas as pd\n",
    "from data.features.feature_generator import FeatureGenerator"
   ]
  },
  {
   "cell_type": "markdown",
   "metadata": {},
   "source": [
    "# Creating dummy/test dataset"
   ]
  },
  {
   "cell_type": "code",
   "execution_count": 24,
   "metadata": {},
   "outputs": [
    {
     "name": "stdout",
     "output_type": "stream",
     "text": [
      "              timestamp    price_open    price_high     price_low  \\\n",
      "0   2023-01-01 00:00:00    100.042821    100.917904     95.492034   \n",
      "1   2023-01-01 01:00:00    202.410944    202.428671    194.954177   \n",
      "2   2023-01-01 02:00:00    297.890707    304.937299    295.927559   \n",
      "3   2023-01-01 03:00:00    397.570245    408.536300    396.753059   \n",
      "4   2023-01-01 04:00:00    500.973093    509.633398    494.090963   \n",
      "..                  ...           ...           ...           ...   \n",
      "495 2023-01-21 15:00:00  49593.093729  50076.411103  49117.332036   \n",
      "496 2023-01-21 16:00:00  49694.818441  50178.273639  49213.794050   \n",
      "497 2023-01-21 17:00:00  49794.048929  50280.814493  49313.695481   \n",
      "498 2023-01-21 18:00:00  49893.876014  50380.065132  49414.614940   \n",
      "499 2023-01-21 19:00:00  49992.765277  50477.912313  49512.747029   \n",
      "\n",
      "      price_close  volume  \n",
      "0      103.004401     492  \n",
      "1      203.383247     399  \n",
      "2      301.631292     450  \n",
      "3      399.588174     286  \n",
      "4      501.657793     446  \n",
      "..            ...     ...  \n",
      "495  49889.765702     372  \n",
      "496  49988.050780     256  \n",
      "497  50089.311384     472  \n",
      "498  50193.598289     461  \n",
      "499  50296.836058     487  \n",
      "\n",
      "[500 rows x 6 columns]\n"
     ]
    }
   ],
   "source": [
    "# Create hourly data with different column names\n",
    "hourly_dates = pd.date_range(start='2023-01-01', periods=500, freq='1h')\n",
    "hourly_data = pd.DataFrame({\n",
    "    'timestamp': hourly_dates,\n",
    "    'price_open': np.random.normal(100, 2, 500).cumsum(),\n",
    "    'price_high': np.random.normal(101, 2, 500).cumsum(),\n",
    "    'price_low': np.random.normal(99, 2, 500).cumsum(),\n",
    "    'price_close': np.random.normal(100.5, 2, 500).cumsum(),\n",
    "    'volume': np.random.randint(100, 500, 500)\n",
    "})\n",
    "print(hourly_data)"
   ]
  },
  {
   "cell_type": "code",
   "execution_count": 25,
   "metadata": {},
   "outputs": [
    {
     "name": "stdout",
     "output_type": "stream",
     "text": [
      "Index(['timestamp', 'price_open', 'price_high', 'price_low', 'price_close',\n",
      "       'volume', 'day_of_week', 'hour_of_day', 'month', 'quarter',\n",
      "       'asian_session', 'european_session', 'us_session', 'market_overlap',\n",
      "       'day_0', 'day_1', 'day_2', 'day_3', 'day_4'],\n",
      "      dtype='object')\n"
     ]
    }
   ],
   "source": [
    "# Create generator with custom column names\n",
    "custom_generator = FeatureGenerator(\n",
    "    price_cols=['price_open', 'price_high', 'price_low', 'price_close'],\n",
    "    volume_col='volume',\n",
    "    timestamp_col='timestamp',\n",
    "    preserve_original_case=True\n",
    ")\n",
    "\n",
    "# Generate features for hourly data\n",
    "result = custom_generator.transform(hourly_data)\n",
    "\n",
    "# Check that features were created despite different column names\n",
    "expected_features = [\n",
    "    'sma_5', 'ema_10', 'rsi_14', 'macd',\n",
    "    'atr_14', 'volatility_10',\n",
    "    'doji', 'hammer',\n",
    "    'day_of_week', 'hour_of_day'\n",
    "]\n",
    "\n",
    "print(result.columns)"
   ]
  }
 ],
 "metadata": {
  "kernelspec": {
   "display_name": "venv",
   "language": "python",
   "name": "python3"
  },
  "language_info": {
   "codemirror_mode": {
    "name": "ipython",
    "version": 3
   },
   "file_extension": ".py",
   "mimetype": "text/x-python",
   "name": "python",
   "nbconvert_exporter": "python",
   "pygments_lexer": "ipython3",
   "version": "3.10.16"
  }
 },
 "nbformat": 4,
 "nbformat_minor": 2
}
