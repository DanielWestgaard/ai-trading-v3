{
 "cells": [
  {
   "cell_type": "markdown",
   "metadata": {},
   "source": [
    "# Imports"
   ]
  },
  {
   "cell_type": "code",
   "execution_count": 20,
   "metadata": {},
   "outputs": [],
   "source": [
    "import numpy as np\n",
    "import pandas as pd\n",
    "\n",
    "from data.features.feature_generator import FeatureGenerator\n",
    "from data.features.feature_preparator import FeaturePreparator"
   ]
  },
  {
   "cell_type": "markdown",
   "metadata": {},
   "source": [
    "# Creating dummy/test dataset"
   ]
  },
  {
   "cell_type": "code",
   "execution_count": 21,
   "metadata": {},
   "outputs": [],
   "source": [
    "dates = pd.date_range(start='2023-01-01', periods=250, freq='1D')\n",
    "\n",
    "np.random.seed(42)  # For reproducibility\n",
    "\n",
    "# Create base price and volume data\n",
    "sample_data = pd.DataFrame({\n",
    "    'Date': dates,\n",
    "    'Open': np.random.normal(100, 5, 250).cumsum(),\n",
    "    'High': np.random.normal(102, 5, 250).cumsum(),\n",
    "    'Low': np.random.normal(98, 5, 250).cumsum(),\n",
    "    'Close': np.random.normal(101, 5, 250).cumsum(),\n",
    "    'Volume': np.random.randint(1000, 5000, 250)\n",
    "})\n",
    "\n",
    "# Add technical indicators with NaN values in early periods\n",
    "# Short window features\n",
    "sample_data['sma_5'] =  sample_data['Close'].rolling(window=5).mean()\n",
    "sample_data['sma_10'] =  sample_data['Close'].rolling(window=10).mean()\n",
    "sample_data['ema_5'] =  sample_data['Close'].ewm(span=5, adjust=False).mean()\n",
    "sample_data['ema_10'] =  sample_data['Close'].ewm(span=10, adjust=False).mean()\n",
    "sample_data['roc_1'] =  sample_data['Close'].pct_change(periods=1) * 100\n",
    "sample_data['roc_5'] =  sample_data['Close'].pct_change(periods=5) * 100\n",
    "\n",
    "# Medium window features\n",
    "sample_data['sma_20'] =  sample_data['Close'].rolling(window=20).mean()\n",
    "sample_data['ema_20'] =  sample_data['Close'].ewm(span=20, adjust=False).mean()\n",
    "\n",
    "# Calculate RSI (medium window)\n",
    "delta =  sample_data['Close'].diff()\n",
    "gain = delta.where(delta > 0, 0)\n",
    "loss = -delta.where(delta < 0, 0)\n",
    "avg_gain = gain.rolling(window=14).mean()\n",
    "avg_loss = loss.rolling(window=14).mean()\n",
    "rs = avg_gain / avg_loss\n",
    "sample_data['rsi_14'] = 100 - (100 / (1 + rs))\n",
    "\n",
    "# Long window features\n",
    "sample_data['sma_50'] =  sample_data['Close'].rolling(window=50).mean()\n",
    "sample_data['sma_200'] =  sample_data['Close'].rolling(window=200).mean()\n",
    "sample_data['ema_50'] =  sample_data['Close'].ewm(span=50, adjust=False).mean()\n",
    "sample_data['ema_200'] =  sample_data['Close'].ewm(span=200, adjust=False).mean()\n",
    "\n",
    "# Volatility features\n",
    "for window in [5, 10, 20, 30]:\n",
    "    returns =  sample_data['Close'].pct_change()\n",
    "    sample_data[f'volatility_{window}'] = returns.rolling(window=window).std() * np.sqrt(252)\n",
    "\n",
    "# Categorical features\n",
    "sample_data['day_of_week'] = dates.dayofweek\n",
    "sample_data['month'] = dates.month\n",
    "sample_data['quarter'] = dates.quarter\n"
   ]
  },
  {
   "cell_type": "code",
   "execution_count": 23,
   "metadata": {},
   "outputs": [
    {
     "name": "stdout",
     "output_type": "stream",
     "text": [
      "['sma_5', 'sma_10', 'ema_5', 'ema_10', 'roc_1', 'roc_5', 'sma_50', 'ema_50']\n",
      "['sma_20', 'ema_20', 'rsi_14', 'sma_200', 'ema_200', 'volatility_5', 'volatility_10']\n",
      "['volatility_20', 'volatility_30']\n"
     ]
    }
   ],
   "source": [
    "preparator = FeaturePreparator()\n",
    "preparator = preparator.fit(sample_data)\n",
    "\n",
    "# Check that feature categories were properly created\n",
    "categories = preparator._feature_categories\n",
    "\n",
    "print(categories.get('short_window', []))\n",
    "print(categories.get('medium_window', []))\n",
    "print(categories.get('long_window', []))"
   ]
  }
 ],
 "metadata": {
  "kernelspec": {
   "display_name": "venv",
   "language": "python",
   "name": "python3"
  },
  "language_info": {
   "codemirror_mode": {
    "name": "ipython",
    "version": 3
   },
   "file_extension": ".py",
   "mimetype": "text/x-python",
   "name": "python",
   "nbconvert_exporter": "python",
   "pygments_lexer": "ipython3",
   "version": "3.10.16"
  }
 },
 "nbformat": 4,
 "nbformat_minor": 2
}
