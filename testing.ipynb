{
 "cells": [
  {
   "cell_type": "markdown",
   "metadata": {},
   "source": [
    "# Imports"
   ]
  },
  {
   "cell_type": "code",
   "execution_count": 2,
   "metadata": {},
   "outputs": [],
   "source": [
    "import numpy as np\n",
    "import pandas as pd\n",
    "from data.features.feature_generator import FeatureGenerator"
   ]
  },
  {
   "cell_type": "markdown",
   "metadata": {},
   "source": [
    "# Creating dummy/test dataset"
   ]
  },
  {
   "cell_type": "code",
   "execution_count": 8,
   "metadata": {},
   "outputs": [
    {
     "name": "stdout",
     "output_type": "stream",
     "text": [
      "          date          open          High           Low         Close  Volume\n",
      "0   2023-01-01    102.483571     95.695580    102.630888     96.383834    1886\n",
      "1   2023-01-02    201.792249    202.284890    210.177971    190.625411    1427\n",
      "2   2023-01-03    305.030692    314.895671    301.185133    286.746044    2328\n",
      "3   2023-01-04    412.645841    422.057997    401.999979    393.014253    2895\n",
      "4   2023-01-05    511.475074    516.461147    496.746766    489.267259    2994\n",
      "..         ...           ...           ...           ...           ...     ...\n",
      "245 2023-09-03  24591.760563  25129.553631  24036.762411  24997.537191    2184\n",
      "246 2023-09-04  24689.385836  25226.367400  24135.696245  25107.525623    2008\n",
      "247 2023-09-05  24786.119190  25327.415707  24229.919331  25211.729838    3738\n",
      "248 2023-09-06  24894.946461  25425.037615  24324.861742  25309.873943    2229\n",
      "249 2023-09-07  24996.971370  25520.123617  24415.828436  25413.736857    2035\n",
      "\n",
      "[250 rows x 6 columns]\n"
     ]
    }
   ],
   "source": [
    "dates = pd.date_range(start='2023-01-01', periods=250, freq='1D')\n",
    "\n",
    "np.random.seed(42)  # For reproducibility\n",
    "sample_data = pd.DataFrame({\n",
    "    'date': dates,\n",
    "    'open': np.random.normal(100, 5, 250).cumsum(),\n",
    "    'High': np.random.normal(102, 5, 250).cumsum(),\n",
    "    'Low': np.random.normal(98, 5, 250).cumsum(),\n",
    "    'Close': np.random.normal(101, 5, 250).cumsum(),\n",
    "    'Volume': np.random.randint(1000, 5000, 250)\n",
    "})\n",
    "\n",
    "print(sample_data)"
   ]
  },
  {
   "cell_type": "code",
   "execution_count": 10,
   "metadata": {},
   "outputs": [
    {
     "name": "stdout",
     "output_type": "stream",
     "text": [
      "Index(['date', 'open', 'High', 'Low', 'Close', 'Volume', 'sma_5', 'ema_5',\n",
      "       'sma_10', 'ema_10', 'sma_20', 'ema_20', 'sma_50', 'ema_50', 'sma_200',\n",
      "       'ema_200', 'rsi_14', 'macd', 'macd_signal', 'macd_hist',\n",
      "       'bollinger_upper', 'bollinger_lower', 'bollinger_middle', 'roc_1',\n",
      "       'roc_5', 'roc_10', 'roc_20', 'stoch_k', 'stoch_d', 'atr_14',\n",
      "       'volatility_5', 'volatility_10', 'volatility_20', 'volatility_30',\n",
      "       'gk_volatility', 'normalized_atr', 'doji', 'hammer',\n",
      "       'bullish_engulfing', 'bearish_engulfing', 'resistance_10', 'support_10',\n",
      "       'dist_to_resistance_10', 'dist_to_support_10', 'resistance_20',\n",
      "       'support_20', 'dist_to_resistance_20', 'dist_to_support_20',\n",
      "       'price_accel', 'day_of_week', 'hour_of_day', 'month', 'quarter',\n",
      "       'asian_session', 'european_session', 'us_session', 'market_overlap',\n",
      "       'day_0', 'day_1', 'day_2', 'day_3', 'day_4'],\n",
      "      dtype='object')\n",
      "Index(['date', 'open', 'High', 'Low', 'Close', 'Volume', 'day_of_week',\n",
      "       'hour_of_day', 'month', 'quarter', 'asian_session', 'european_session',\n",
      "       'us_session', 'market_overlap', 'day_0', 'day_1', 'day_2', 'day_3',\n",
      "       'day_4'],\n",
      "      dtype='object')\n"
     ]
    }
   ],
   "source": [
    "generator_preserve = FeatureGenerator(preserve_original_case=True)\n",
    "result_preserve = generator_preserve.transform(sample_data)\n",
    "# Check that original column names are preserved\n",
    "print(result_preserve.columns)\n",
    "\n",
    "# Without case preservation\n",
    "generator_no_preserve = FeatureGenerator(preserve_original_case=False)\n",
    "result_no_preserve = generator_no_preserve.transform(sample_data)\n",
    "# # Check that columns are lowercase\n",
    "print(result_no_preserve.columns)"
   ]
  }
 ],
 "metadata": {
  "kernelspec": {
   "display_name": "venv",
   "language": "python",
   "name": "python3"
  },
  "language_info": {
   "codemirror_mode": {
    "name": "ipython",
    "version": 3
   },
   "file_extension": ".py",
   "mimetype": "text/x-python",
   "name": "python",
   "nbconvert_exporter": "python",
   "pygments_lexer": "ipython3",
   "version": "3.10.16"
  }
 },
 "nbformat": 4,
 "nbformat_minor": 2
}
